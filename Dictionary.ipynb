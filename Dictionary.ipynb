{
 "cells": [
  {
   "cell_type": "code",
   "execution_count": 1,
   "metadata": {},
   "outputs": [],
   "source": [
    "lbs_info = {\n",
    "    'full name':\"lal bahadur shastri college\",\n",
    "    'short name':'lbs',\n",
    "    'students': 440,\n",
    "    'culture':'mood kharab bacche'\n",
    "    }"
   ]
  },
  {
   "cell_type": "code",
   "execution_count": 2,
   "metadata": {},
   "outputs": [],
   "source": [
    "movies = {\n",
    "    'Suryavansham': {\n",
    "    'relayed on':'song max',\n",
    "    'plot': 'Rich father doesnot like his illitrate son',\n",
    "    'rating':10,\n",
    "    },\n",
    "    \n",
    "    'Ghajini':{\n",
    "        'plot':'rich person forgets everythings after 15 minutes',\n",
    "        'rating':10,\n",
    "        'streamed on':'jio cinema'\n",
    "    },\n",
    "\n",
    "    '3 idiot':{\n",
    "        'plot':'3 friends in college',\n",
    "        'rating':10,\n",
    "        'relayed on':'soni max'\n",
    "    },\n",
    "\n",
    "    'singham':{\n",
    "        'plot': 'action movie',\n",
    "        'rating':9,\n",
    "        'streamed on':'jio cinema'\n",
    "    },\n",
    "    'dilbaichara':{\n",
    "        'plot': 'love story and based on cancer patient',\n",
    "        'rating':10,\n",
    "        'streamed on':'zee cinema '\n",
    "    \n",
    "    }\n",
    "}"
   ]
  },
  {
   "attachments": {},
   "cell_type": "markdown",
   "metadata": {},
   "source": [
    "# adding data\n",
    "syntax\n",
    "'''dic[key] = value'''"
   ]
  },
  {
   "cell_type": "code",
   "execution_count": 3,
   "metadata": {},
   "outputs": [
    {
     "data": {
      "text/plain": [
       "{'plot': '3 friends in college', 'rating': 10, 'relayed on': 'soni max'}"
      ]
     },
     "execution_count": 3,
     "metadata": {},
     "output_type": "execute_result"
    }
   ],
   "source": [
    "# retrieve\n",
    "movies['3 idiot']"
   ]
  },
  {
   "cell_type": "code",
   "execution_count": 6,
   "metadata": {},
   "outputs": [
    {
     "data": {
      "text/plain": [
       "{'plot': 'rich person forgets everythings after 15 minutes',\n",
       " 'rating': 10,\n",
       " 'streamed on': 'jio cinema'}"
      ]
     },
     "execution_count": 6,
     "metadata": {},
     "output_type": "execute_result"
    }
   ],
   "source": [
    "movies['Ghajini']"
   ]
  },
  {
   "cell_type": "code",
   "execution_count": 9,
   "metadata": {},
   "outputs": [
    {
     "data": {
      "text/plain": [
       "['Suryavansham', 'Ghajini', '3 idiot', 'singham', 'dilbaichara']"
      ]
     },
     "execution_count": 9,
     "metadata": {},
     "output_type": "execute_result"
    }
   ],
   "source": [
    "list(movies.keys())"
   ]
  },
  {
   "cell_type": "code",
   "execution_count": 10,
   "metadata": {},
   "outputs": [
    {
     "data": {
      "text/plain": [
       "[{'relayed on': 'song max',\n",
       "  'plot': 'Rich father doesnot like his illitrate son',\n",
       "  'rating': 10},\n",
       " {'plot': 'rich person forgets everythings after 15 minutes',\n",
       "  'rating': 10,\n",
       "  'streamed on': 'jio cinema'},\n",
       " {'plot': '3 friends in college', 'rating': 10, 'relayed on': 'soni max'},\n",
       " {'plot': 'action movie', 'rating': 9, 'streamed on': 'jio cinema'},\n",
       " {'plot': 'love story and based on cancer patient',\n",
       "  'rating': 10,\n",
       "  'streamed on': 'zee cinema '}]"
      ]
     },
     "execution_count": 10,
     "metadata": {},
     "output_type": "execute_result"
    }
   ],
   "source": [
    "list(movies.values())"
   ]
  },
  {
   "cell_type": "code",
   "execution_count": 13,
   "metadata": {},
   "outputs": [
    {
     "data": {
      "text/plain": [
       "dict_items([('Suryavansham', {'relayed on': 'song max', 'plot': 'Rich father doesnot like his illitrate son', 'rating': 10}), ('Ghajini', {'plot': 'rich person forgets everythings after 15 minutes', 'rating': 10, 'streamed on': 'jio cinema'}), ('3 idiot', {'plot': '3 friends in college', 'rating': 10, 'relayed on': 'soni max'}), ('singham', {'plot': 'action movie', 'rating': 9, 'streamed on': 'jio cinema'}), ('dilbaichara', {'plot': 'love story and based on cancer patient', 'rating': 10, 'streamed on': 'zee cinema '})])"
      ]
     },
     "execution_count": 13,
     "metadata": {},
     "output_type": "execute_result"
    }
   ],
   "source": [
    "movies.items()"
   ]
  },
  {
   "cell_type": "code",
   "execution_count": 18,
   "metadata": {},
   "outputs": [
    {
     "name": "stdout",
     "output_type": "stream",
     "text": [
      "suryavansham\n",
      "relayed on     |song max\n",
      "plot           |Rich father doesnot like his illitrate son\n",
      "rating         |10\n",
      "\n",
      "3 idiot\n",
      "plot           |3 friends in college\n",
      "rating         |10\n",
      "relayed on     |soni max\n",
      "\n",
      "singham\n",
      "plot           |action movie\n",
      "rating         |9\n",
      "streamed on    |jio cinema\n",
      "\n",
      "dilbaichara\n",
      "plot           |love story and based on cancer patient\n",
      "rating         |10\n",
      "streamed on    |zee cinema \n",
      "\n"
     ]
    }
   ],
   "source": [
    "for title,details in movies.items():\n",
    "    print(title.lower())\n",
    "    for entry,value in details.items():\n",
    "        print(f'{entry:15}|{value}')\n",
    "    print()"
   ]
  },
  {
   "cell_type": "code",
   "execution_count": 17,
   "metadata": {},
   "outputs": [
    {
     "name": "stdout",
     "output_type": "stream",
     "text": [
      "{'Suryavansham': {'relayed on': 'song max', 'plot': 'Rich father doesnot like his illitrate son', 'rating': 10}, '3 idiot': {'plot': '3 friends in college', 'rating': 10, 'relayed on': 'soni max'}, 'singham': {'plot': 'action movie', 'rating': 9, 'streamed on': 'jio cinema'}, 'dilbaichara': {'plot': 'love story and based on cancer patient', 'rating': 10, 'streamed on': 'zee cinema '}}\n"
     ]
    }
   ],
   "source": [
    "movies.pop('Ghajini')\n",
    "print(movies)"
   ]
  },
  {
   "cell_type": "code",
   "execution_count": null,
   "metadata": {},
   "outputs": [],
   "source": []
  }
 ],
 "metadata": {
  "kernelspec": {
   "display_name": "base",
   "language": "python",
   "name": "python3"
  },
  "language_info": {
   "codemirror_mode": {
    "name": "ipython",
    "version": 3
   },
   "file_extension": ".py",
   "mimetype": "text/x-python",
   "name": "python",
   "nbconvert_exporter": "python",
   "pygments_lexer": "ipython3",
   "version": "3.10.9"
  },
  "orig_nbformat": 4
 },
 "nbformat": 4,
 "nbformat_minor": 2
}
