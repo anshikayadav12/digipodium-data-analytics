{
 "cells": [
  {
   "attachments": {},
   "cell_type": "markdown",
   "metadata": {},
   "source": [
    "for loop & while loop\n",
    "#for- step based loop\n",
    "* for i in range(10):\n",
    "    print(i)\n",
    "~ used for\n",
    "    - iterating over asequence(list,tuple,string)\n",
    "    - iterating over range\n",
    "\n",
    "#while -condition based loop\n",
    "* i=0\n",
    "  while i<10:\n",
    "    print(i)\n",
    "    i+=1\n",
    "~ used for\n",
    "    - iterating until a condition is met\n",
    "    - iterating until a condition is no longer met \n",
    "    - A iterating forever (if you don't break out of \n",
    "    it )"
   ]
  },
  {
   "cell_type": "code",
   "execution_count": 1,
   "metadata": {},
   "outputs": [
    {
     "name": "stdout",
     "output_type": "stream",
     "text": [
      "0\n",
      "1\n",
      "2\n",
      "3\n",
      "4\n",
      "5\n",
      "6\n",
      "7\n",
      "8\n",
      "9\n"
     ]
    }
   ],
   "source": [
    "i=0\n",
    "while i<10:\n",
    "    print(i)\n",
    "    i-=1"
   ]
  },
  {
   "cell_type": "code",
   "execution_count": 4,
   "metadata": {},
   "outputs": [],
   "source": [
    "movies=['shrek','kungfu panda','how to train your dragon','shehazada',\n",
    "        'kisi ka bhai kisi ki jaan','Aladdin','jungal book',\n",
    "        'Adipurosh','sanam teri kasam']"
   ]
  },
  {
   "cell_type": "code",
   "execution_count": 5,
   "metadata": {},
   "outputs": [
    {
     "name": "stdout",
     "output_type": "stream",
     "text": [
      "total=movies=9\n"
     ]
    }
   ],
   "source": [
    "print(f'total=movies={len(movies)}')"
   ]
  },
  {
   "cell_type": "code",
   "execution_count": 6,
   "metadata": {},
   "outputs": [
    {
     "name": "stdout",
     "output_type": "stream",
     "text": [
      "shrek\n",
      "kungfu panda\n",
      "how to train your dragon\n",
      "shehazada\n",
      "kisi ka bhai kisi ki jaan\n",
      "Aladdin\n",
      "jungal book\n",
      "Adipurosh\n",
      "sanam teri kasam\n"
     ]
    }
   ],
   "source": [
    "for movie in movies:\n",
    "    print(movie)"
   ]
  },
  {
   "cell_type": "code",
   "execution_count": 7,
   "metadata": {},
   "outputs": [
    {
     "name": "stdout",
     "output_type": "stream",
     "text": [
      "shrek 5\n",
      "kungfu panda 12\n",
      "how to train your dragon 24\n",
      "shehazada 9\n",
      "kisi ka bhai kisi ki jaan 25\n",
      "Aladdin 7\n",
      "jungal book 11\n",
      "Adipurosh 9\n",
      "sanam teri kasam 16\n"
     ]
    }
   ],
   "source": [
    "for movie in movies:\n",
    "    print(movie,len(movie))"
   ]
  },
  {
   "cell_type": "code",
   "execution_count": 11,
   "metadata": {},
   "outputs": [
    {
     "name": "stdout",
     "output_type": "stream",
     "text": [
      "shrek                               5\n",
      "kungfu panda                        12\n",
      "how to train your dragon            24\n",
      "shehazada                           9\n",
      "kisi ka bhai kisi ki jaan           25\n",
      "Aladdin                             7\n",
      "jungal book                         11\n",
      "Adipurosh                           9\n",
      "sanam teri kasam                    16\n"
     ]
    }
   ],
   "source": [
    "for movie in movies:\n",
    "    print(f'{movie:35} {len(movie)}')"
   ]
  },
  {
   "cell_type": "code",
   "execution_count": 28,
   "metadata": {},
   "outputs": [
    {
     "name": "stdout",
     "output_type": "stream",
     "text": [
      "32 32768\n",
      "56 175616\n",
      "23 12167\n",
      "56 175616\n",
      "12 1728\n",
      "87 658503\n",
      "56 175616\n",
      "7 343\n",
      "69 328509\n",
      "3 27\n"
     ]
    }
   ],
   "source": [
    "nums = [32,56,23,56,12,87,56,7,69,3,]\n",
    "for i in nums:\n",
    "    print(i,i**3)"
   ]
  },
  {
   "cell_type": "code",
   "execution_count": 29,
   "metadata": {},
   "outputs": [
    {
     "name": "stdout",
     "output_type": "stream",
     "text": [
      "23 529\n",
      "87 7569\n",
      "7 49\n",
      "69 4761\n",
      "3 9\n"
     ]
    }
   ],
   "source": [
    "for i in nums:\n",
    "    if i%2!=0:\n",
    "        print(i,i**2)"
   ]
  },
  {
   "cell_type": "code",
   "execution_count": 30,
   "metadata": {},
   "outputs": [
    {
     "name": "stdout",
     "output_type": "stream",
     "text": [
      "32 1024\n",
      "56 3136\n",
      "56 3136\n",
      "12 144\n",
      "56 3136\n"
     ]
    }
   ],
   "source": [
    "for i in nums:\n",
    "    if i%2==0:\n",
    "        print(i,i**2)\n"
   ]
  },
  {
   "cell_type": "code",
   "execution_count": 31,
   "metadata": {},
   "outputs": [
    {
     "data": {
      "text/plain": [
       "401"
      ]
     },
     "execution_count": 31,
     "metadata": {},
     "output_type": "execute_result"
    }
   ],
   "source": [
    "sum(nums)"
   ]
  },
  {
   "cell_type": "code",
   "execution_count": 25,
   "metadata": {},
   "outputs": [
    {
     "name": "stdout",
     "output_type": "stream",
     "text": [
      "224\n"
     ]
    }
   ],
   "source": [
    "total_even = 0\n",
    "for i in nums:\n",
    "    if i %2 ==0:\n",
    "        total_even += i\n",
    "print(total_even)"
   ]
  },
  {
   "cell_type": "code",
   "execution_count": 32,
   "metadata": {},
   "outputs": [
    {
     "name": "stdout",
     "output_type": "stream",
     "text": [
      "189\n"
     ]
    }
   ],
   "source": [
    "total_even = 0\n",
    "for i in nums:\n",
    "    if i %2 !=0:\n",
    "        total_even += i\n",
    "print(total_even)"
   ]
  },
  {
   "cell_type": "code",
   "execution_count": 34,
   "metadata": {},
   "outputs": [
    {
     "name": "stdout",
     "output_type": "stream",
     "text": [
      "32\n",
      "56\n",
      "23\n",
      "56\n",
      "12\n",
      "87\n"
     ]
    }
   ],
   "source": [
    "for i in nums:\n",
    "    print(i)\n",
    "    if i > 60:\n",
    "        break"
   ]
  },
  {
   "cell_type": "code",
   "execution_count": 37,
   "metadata": {},
   "outputs": [
    {
     "name": "stdout",
     "output_type": "stream",
     "text": [
      "Apple\n",
      "potato\n",
      "banana\n",
      "\n",
      "orange\n",
      "mango\n"
     ]
    }
   ],
   "source": [
    "x = [\"Apple\",'potato','banana','','orange','mango']\n",
    "for item in x:\n",
    "    print(item)"
   ]
  },
  {
   "cell_type": "code",
   "execution_count": 39,
   "metadata": {},
   "outputs": [
    {
     "name": "stdout",
     "output_type": "stream",
     "text": [
      "Apple\n",
      "potato\n",
      "banana\n"
     ]
    }
   ],
   "source": [
    "x = [\"Apple\",'potato','banana','','orange','mango']\n",
    "for item in x:\n",
    "    if len(item) == 0:\n",
    "        break\n",
    "    print(item)"
   ]
  },
  {
   "cell_type": "code",
   "execution_count": 41,
   "metadata": {},
   "outputs": [
    {
     "name": "stdout",
     "output_type": "stream",
     "text": [
      "login successful\n"
     ]
    }
   ],
   "source": [
    "errors =0\n",
    "while True:\n",
    "    username = input ('Enter username:')\n",
    "    password = input ('enter password:')\n",
    "    if username == 'admin' and password == 'secret':\n",
    "        print('login successful')\n",
    "        break\n",
    "    elif errors == 3:\n",
    "        print('too many errors')\n",
    "        break\n",
    "    else:\n",
    "        print('invalid username/password')\n",
    "        errors += 1\n"
   ]
  },
  {
   "cell_type": "code",
   "execution_count": null,
   "metadata": {},
   "outputs": [],
   "source": []
  }
 ],
 "metadata": {
  "kernelspec": {
   "display_name": "base",
   "language": "python",
   "name": "python3"
  },
  "language_info": {
   "codemirror_mode": {
    "name": "ipython",
    "version": 3
   },
   "file_extension": ".py",
   "mimetype": "text/x-python",
   "name": "python",
   "nbconvert_exporter": "python",
   "pygments_lexer": "ipython3",
   "version": "3.10.9"
  },
  "orig_nbformat": 4
 },
 "nbformat": 4,
 "nbformat_minor": 2
}
