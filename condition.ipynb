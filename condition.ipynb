{
 "cells": [
  {
   "cell_type": "code",
   "execution_count": 1,
   "metadata": {},
   "outputs": [],
   "source": [
    "x=100"
   ]
  },
  {
   "cell_type": "code",
   "execution_count": 13,
   "metadata": {},
   "outputs": [
    {
     "name": "stdout",
     "output_type": "stream",
     "text": [
      "x is greater than 10\n"
     ]
    }
   ],
   "source": [
    "if x > 10:\n",
    "   print(\"x is greater than 10\")"
   ]
  },
  {
   "cell_type": "code",
   "execution_count": 14,
   "metadata": {},
   "outputs": [],
   "source": [
    "name='willian Shakespeare'"
   ]
  },
  {
   "cell_type": "code",
   "execution_count": 16,
   "metadata": {},
   "outputs": [
    {
     "data": {
      "text/plain": [
       "False"
      ]
     },
     "execution_count": 16,
     "metadata": {},
     "output_type": "execute_result"
    }
   ],
   "source": [
    "'Will' in name"
   ]
  },
  {
   "cell_type": "code",
   "execution_count": 19,
   "metadata": {},
   "outputs": [],
   "source": [
    "if 'spear'in name:\n",
    "    print('spear found in name')\n"
   ]
  },
  {
   "cell_type": "code",
   "execution_count": 24,
   "metadata": {},
   "outputs": [
    {
     "name": "stdout",
     "output_type": "stream",
     "text": [
      "you are a child\n",
      "you cannot vote\n",
      "you can vote in 4 years\n"
     ]
    }
   ],
   "source": [
    "age=int(input('what is your age'))\n",
    "if age >=18:\n",
    "    print('you are adult')\n",
    "    print('you can vote')\n",
    "else:\n",
    "    print('you are a child')\n",
    "    print('you cannot vote')\n",
    "    print('you can vote in',18-age ,'years')    "
   ]
  },
  {
   "cell_type": "code",
   "execution_count": 27,
   "metadata": {},
   "outputs": [
    {
     "name": "stdout",
     "output_type": "stream",
     "text": [
      "welcome to the ice cream shop😋🍨🍧🍦\n",
      "sorry we donot have mango flavour\n"
     ]
    }
   ],
   "source": [
    "#if elif else ledder\n",
    "print('welcome to the ice cream shop😋🍨🍧🍦')\n",
    "flavour = input('what flavour do youy want') \n",
    "if flavour == 'vanilla':\n",
    "    print('here is your vanilla ')\n",
    "elif  flavour == 'chocolate':\n",
    "    print('here is your chocolate ')\n",
    "elif  flavour == 'strawberry':\n",
    "    print('here is your strawberry ')\n",
    "elif  flavour == 'butterscotch':\n",
    "    print('here is your butterscotch ')\n",
    "else:\n",
    "    print('sorry we donot have',flavour,'flavour')\n"
   ]
  },
  {
   "cell_type": "code",
   "execution_count": null,
   "metadata": {},
   "outputs": [],
   "source": []
  },
  {
   "cell_type": "code",
   "execution_count": null,
   "metadata": {},
   "outputs": [],
   "source": []
  }
 ],
 "metadata": {
  "kernelspec": {
   "display_name": "base",
   "language": "python",
   "name": "python3"
  },
  "language_info": {
   "codemirror_mode": {
    "name": "ipython",
    "version": 3
   },
   "file_extension": ".py",
   "mimetype": "text/x-python",
   "name": "python",
   "nbconvert_exporter": "python",
   "pygments_lexer": "ipython3",
   "version": "3.10.9"
  },
  "orig_nbformat": 4
 },
 "nbformat": 4,
 "nbformat_minor": 2
}
