{
 "cells": [
  {
   "cell_type": "code",
   "execution_count": 26,
   "metadata": {},
   "outputs": [
    {
     "name": "stdout",
     "output_type": "stream",
     "text": [
      "Anshika & Shalini\n"
     ]
    }
   ],
   "source": [
    "name= \"Anshika & Shalini\"\n",
    "print(name)"
   ]
  },
  {
   "cell_type": "code",
   "execution_count": 2,
   "metadata": {},
   "outputs": [],
   "source": [
    "city = input('enter your city')"
   ]
  },
  {
   "cell_type": "code",
   "execution_count": 27,
   "metadata": {},
   "outputs": [
    {
     "name": "stdout",
     "output_type": "stream",
     "text": [
      "Anshika & Shalini\n",
      "😉lucknow\n",
      "😉lbs\n",
      "😉bca\n",
      "😉78\n"
     ]
    }
   ],
   "source": [
    "college = input('enter your college ')\n",
    "klass = input('enter your klass')\n",
    "IQ = input('enter your IQ')\n",
    "print(name,city, college,klass,IQ, sep='\\n😉')"
   ]
  },
  {
   "cell_type": "code",
   "execution_count": 17,
   "metadata": {},
   "outputs": [
    {
     "data": {
      "text/plain": [
       "'hello lucknow'"
      ]
     },
     "execution_count": 17,
     "metadata": {},
     "output_type": "execute_result"
    }
   ],
   "source": [
    "f'hello {city}'"
   ]
  },
  {
   "cell_type": "code",
   "execution_count": 28,
   "metadata": {},
   "outputs": [
    {
     "name": "stdout",
     "output_type": "stream",
     "text": [
      "hi,i amAnshika & Shalini\n",
      "i live inlucknow\n",
      "i study in lbs\n",
      "i am inbca\n",
      "my IQ is78\n"
     ]
    }
   ],
   "source": [
    "print(f'hi,i am {name}')\n",
    "print(f'i live in{city}')\n",
    "print(f'i study in {college}')\n",
    "print(f'i am in{klass}')\n",
    "print(f'my IQ is{IQ}')"
   ]
  },
  {
   "cell_type": "code",
   "execution_count": 29,
   "metadata": {},
   "outputs": [
    {
     "name": "stdout",
     "output_type": "stream",
     "text": [
      "hi,i am Anshika & Shalini and i live in lucknow\n"
     ]
    }
   ],
   "source": [
    "print(f'hi,i am {name} and i live in {city}')"
   ]
  },
  {
   "cell_type": "code",
   "execution_count": null,
   "metadata": {},
   "outputs": [],
   "source": []
  }
 ],
 "metadata": {
  "kernelspec": {
   "display_name": "base",
   "language": "python",
   "name": "python3"
  },
  "language_info": {
   "codemirror_mode": {
    "name": "ipython",
    "version": 3
   },
   "file_extension": ".py",
   "mimetype": "text/x-python",
   "name": "python",
   "nbconvert_exporter": "python",
   "pygments_lexer": "ipython3",
   "version": "3.10.9"
  },
  "orig_nbformat": 4
 },
 "nbformat": 4,
 "nbformat_minor": 2
}
